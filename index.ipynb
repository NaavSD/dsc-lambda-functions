{
 "cells": [
  {
   "cell_type": "markdown",
   "metadata": {},
   "source": [
    "# Lambda Functions\n",
    "\n",
    "## Introduction\n",
    "\n",
    "Lambda functions are often a convenient way to write *throw-away* functions on the fly. If you need to write a more complicated function you may still need to use the more formal `def` method, but lambda functions provide a quick and concise way to write functions.\n",
    "\n",
    "## Objectives\n",
    "You will be able to:\n",
    "* Describe the purpose of lambda functions, when they should be employed, and their limitations   \n",
    "* Create lambda functions to use as arguments of other functions   \n",
    "* Use the `.map()` or `.apply()` method to apply a function to a pandas series or DataFrame\n",
    "\n",
    "\n",
    "## Example\n",
    "\n",
    "Let's say you want to count the number of words in each yelp review.\n",
    "\n",
    "> In the cell below, type the code to import pandas using the standard alias. Then load the data file 'Yelp_Reviews.csv', using pandas to load it into a DataFrame setting the `index_col` parameter to `0` and store this DataFrame as the variable `df`. Finally, display the first 2 rows of the DataFrame to ensure it has loaded properly.\n",
    "\n",
    "<details>\n",
    "    <summary style=\"cursor: pointer; display: inline\">\n",
    "        <b><u>Reveal Code</u></b>\n",
    "    </summary>\n",
    "    <pre><code language=\"python\">import pandas as pd\n",
    "df = pd.read_csv('Yelp_Reviews.csv', index_col=0)\n",
    "df.head(2)\n",
    "    </code></pre>\n",
    "</details>"
   ]
  },
  {
   "cell_type": "code",
   "execution_count": null,
   "metadata": {},
   "outputs": [],
   "source": [
    "# replace this comment with the code to import pandas\n",
    "\n",
    "# replace this comment with the code to create df from the file 'Yelp_Reviews.csv'\n",
    "\n",
    "# replace this comment with the code to display the first 2 rows dataframe"
   ]
  },
  {
   "cell_type": "markdown",
   "metadata": {},
   "source": [
    "---\n",
    "#### Expected Output\n",
    "<pre><code>the first 2 rows of the df DataFrame with 9 columns\n",
    "</code></pre>\n",
    "<details>\n",
    "    <summary style=\"cursor: pointer; display: inline\">\n",
    "        <b><u>Click to Expand Complete Output</u></b>\n",
    "    </summary>\n",
    "    <img src=\"images/df_load.png\">\n",
    "</details>\n",
    "\n",
    "---"
   ]
  },
  {
   "cell_type": "markdown",
   "metadata": {},
   "source": [
    "The line of code below will iterate through all of the elements in `df.text`, split it into individual words, count the number of words, then return the first 5 tows of the resulting DataFrame.\n",
    "> In the cell below, type the following code and run the cell to see the result of the code.\n",
    "\n",
    "`df['text'].map(lambda x: len(x.split())).head()`"
   ]
  },
  {
   "cell_type": "code",
   "execution_count": null,
   "metadata": {},
   "outputs": [],
   "source": [
    "# replace this comment with the above code to see the result"
   ]
  },
  {
   "cell_type": "markdown",
   "metadata": {},
   "source": [
    "---\n",
    "#### Expected Output\n",
    "<pre><code>1     58\n",
    "2     30\n",
    "4     30\n",
    "5     82\n",
    "10    32\n",
    "Name: text, dtype: int64\n",
    "</code></pre>\n",
    "\n",
    "---"
   ]
  },
  {
   "cell_type": "markdown",
   "metadata": {},
   "source": [
    "Similar to defining functions in general or naming the iterable in `for` loops, the variable that you use after calling the `lambda` keyword does not matter: \n",
    "\n",
    "> In the cell below, type the following code to show that changing the keyword does not affect the outcome\n",
    "\n",
    "`df['text'].map(lambda review_text: len(review_text.split())).head()`"
   ]
  },
  {
   "cell_type": "code",
   "execution_count": null,
   "metadata": {},
   "outputs": [],
   "source": [
    "# replace this comment with the code to see that the keyword does not matter"
   ]
  },
  {
   "cell_type": "markdown",
   "metadata": {},
   "source": [
    "---\n",
    "#### Expected Output\n",
    "<pre><code>1     58\n",
    "2     30\n",
    "4     30\n",
    "5     82\n",
    "10    32\n",
    "Name: text, dtype: int64\n",
    "</code></pre>\n",
    "\n",
    "---"
   ]
  },
  {
   "cell_type": "markdown",
   "metadata": {},
   "source": [
    "## Lambda functions with conditionals\n",
    "Lambda functions can also accept some conditionals if chained in a list comprehension.\n",
    "\n",
    "> In the cell below, type the following code:\n",
    "\n",
    "`df['text'].map(lambda x: 'Good' if any([word in x.lower() for word in ['awesome', 'love', 'good', 'great']]) else 'Bad').head()`"
   ]
  },
  {
   "cell_type": "code",
   "execution_count": null,
   "metadata": {},
   "outputs": [],
   "source": [
    "# replace this comment with the code to show the output"
   ]
  },
  {
   "cell_type": "markdown",
   "metadata": {},
   "source": [
    "---\n",
    "#### Expected Output\n",
    "<pre><code>1     Good\n",
    "2      Bad\n",
    "4     Good\n",
    "5      Bad\n",
    "10     Bad\n",
    "Name: text, dtype: object\n",
    "</code></pre>\n",
    "\n",
    "---"
   ]
  },
  {
   "cell_type": "markdown",
   "metadata": {},
   "source": [
    "## Note\n",
    "The above is terribly poor style and does in no way represent [PEP 8](https://www.python.org/dev/peps/pep-0008/) or Pythonic style. (For example, no line should be over 72 characters according to PEP 8; the previous line was 127 characters.) That said, it is an interesting demonstration of chaining a conditional, any method, and a list comprehension all inside a lambda function!   \n",
    "Shew!"
   ]
  },
  {
   "cell_type": "markdown",
   "metadata": {},
   "source": [
    "## Returning to a more manageable example...\n",
    "\n",
    "Perhaps we want to naively select the year from the date string rather than convert it to a datetime object.\n",
    "\n",
    "> In the cell below, type the following code to select the year from the date string:\n",
    "\n",
    "`df.date.map(lambda x: x[:4]).head()`"
   ]
  },
  {
   "cell_type": "code",
   "execution_count": null,
   "metadata": {},
   "outputs": [],
   "source": [
    "# replace this comment with the code that will select the year from the date string"
   ]
  },
  {
   "cell_type": "markdown",
   "metadata": {},
   "source": [
    "---\n",
    "#### Expected Output\n",
    "<pre><code>1     2012\n",
    "2     2014\n",
    "4     2014\n",
    "5     2011\n",
    "10    2016\n",
    "Name: date, dtype: object\n",
    "</code></pre>\n",
    "\n",
    "---"
   ]
  },
  {
   "cell_type": "markdown",
   "metadata": {},
   "source": [
    "## Lambda functions are also useful within the `sorted()` function\n",
    "\n",
    "> In the cell below, type the following code to display the results of the `sorted()` function on the list `names`:\n",
    "\n",
    "`sorted(names)`"
   ]
  },
  {
   "cell_type": "code",
   "execution_count": null,
   "metadata": {},
   "outputs": [],
   "source": [
    "names = ['Miriam Marks','Sidney Baird','Elaine Barrera','Eddie Reeves','Marley Beard',\n",
    "         'Jaiden Liu','Bethany Martin','Stephen Rios','Audrey Mayer','Kameron Davidson',\n",
    "         'Carter Wong','Teagan Bennett']\n",
    "# replace this comment with the code to sort the list names using the sorted function\n",
    "\n"
   ]
  },
  {
   "cell_type": "markdown",
   "metadata": {},
   "source": [
    "---\n",
    "#### Expected Output\n",
    "<pre><code>['Audrey Mayer',\n",
    " 'Bethany Martin',\n",
    " 'Carter Wong',\n",
    " 'Eddie Reeves',\n",
    " 'Elaine Barrera',\n",
    " 'Jaiden Liu',\n",
    " 'Kameron Davidson',\n",
    " 'Marley Beard',\n",
    " 'Miriam Marks',\n",
    " 'Sidney Baird',\n",
    " 'Stephen Rios',\n",
    " 'Teagan Bennett']\n",
    "</code></pre>\n",
    "\n",
    "---"
   ]
  },
  {
   "cell_type": "markdown",
   "metadata": {},
   "source": [
    "> In the cell below, type the following code to demonstrate the result of using a lambda function to specify a key for the `sorted()` function:\n",
    "\n",
    "`sorted(names, key=lambda x: x.split()[1])`"
   ]
  },
  {
   "cell_type": "code",
   "execution_count": null,
   "metadata": {},
   "outputs": [],
   "source": [
    "# Sorting by last name\n",
    "names = ['Miriam Marks','Sidney Baird','Elaine Barrera','Eddie Reeves','Marley Beard',\n",
    "         'Jaiden Liu','Bethany Martin','Stephen Rios','Audrey Mayer','Kameron Davidson',\n",
    "         'Teagan Bennett']\n",
    "# replace this comment with the code to sort the list names using the sorted function with a specified key\n"
   ]
  },
  {
   "cell_type": "markdown",
   "metadata": {},
   "source": [
    "---\n",
    "#### Expected Output\n",
    "<pre><code>['Sidney Baird',\n",
    " 'Elaine Barrera',\n",
    " 'Marley Beard',\n",
    " 'Teagan Bennett',\n",
    " 'Kameron Davidson',\n",
    " 'Jaiden Liu',\n",
    " 'Miriam Marks',\n",
    " 'Bethany Martin',\n",
    " 'Audrey Mayer',\n",
    " 'Eddie Reeves',\n",
    " 'Stephen Rios']\n",
    "</code></pre>\n",
    "\n",
    "---"
   ]
  },
  {
   "cell_type": "markdown",
   "metadata": {},
   "source": [
    "## A general approach to writing [Data Transformation] Functions\n",
    "\n",
    "Above, we've covered a lot of the syntax of lambda functions, but the thought process for writing these complex transformations was not transparent. Let's take a minute to discuss some approaches to tackling these problems.\n",
    "\n",
    "## Experiment and solve for individual cases first\n",
    "\n",
    "Before trying to write a function to apply to an entire series, it's typically easier to attempt to solve for an individual case. For example, if we're trying to determine the number of words in a review, we can try and do this for a single review first."
   ]
  },
  {
   "cell_type": "markdown",
   "metadata": {},
   "source": [
    "First, choose an example field that you'll be applying the function to.\n",
    "\n",
    "> In the cell below, type the following code to select the row with the index of `[0]` from the `text` column of the DataFrame `df` and store the result as `example`:\n",
    "\n",
    "<details>\n",
    "    <summary style=\"cursor: pointer; display: inline\">\n",
    "        <b><u>Reveal Code</u></b>\n",
    "    </summary>\n",
    "    <pre><code language=\"python\">example = df['text'].iloc[0]\n",
    "example\n",
    "    </code></pre>\n",
    "</details>"
   ]
  },
  {
   "cell_type": "code",
   "execution_count": null,
   "metadata": {},
   "outputs": [],
   "source": [
    "# replace this comment with the code to select the desired data"
   ]
  },
  {
   "cell_type": "markdown",
   "metadata": {},
   "source": [
    "---\n",
    "#### Expected Output\n",
    "<pre><code>'I love this place! My fiance And I go here atleast once a week. The portions are huge! Food is amazing. I love their carne asada. They have great lunch specials... Leticia is super nice and cares about what you think of her restaurant. You have to try their cheese enchiladas too the sauce is different And amazing!!!'\n",
    "</code></pre>\n",
    "\n",
    "---"
   ]
  },
  {
   "cell_type": "markdown",
   "metadata": {},
   "source": [
    "Then start writing the function for that example. For example, if we need to count the number of words, it's natural to first divide the review into words. A natural way to do this is with the str.split() method. \n",
    "\n",
    "> In the cell below, type the code to separate `example` into individual words using the `split()` method:\n",
    "\n",
    "<details>\n",
    "    <summary style=\"cursor: pointer; display: inline\">\n",
    "        <b><u>Reveal Code</u></b>\n",
    "    </summary>\n",
    "    <pre><code language=\"python\">example.split()\n",
    "    </code></pre>\n",
    "</details>"
   ]
  },
  {
   "cell_type": "code",
   "execution_count": null,
   "metadata": {},
   "outputs": [],
   "source": [
    "# replace this comment with the code to apply the split method to the example"
   ]
  },
  {
   "cell_type": "markdown",
   "metadata": {},
   "source": [
    "---\n",
    "#### Expected Output\n",
    "<details>\n",
    "    <summary style=\"cursor: pointer; display: inline\">\n",
    "        <b><u>Click to Expand Complete Output</u></b>\n",
    "    </summary>\n",
    "    <pre><code language=\"python\">Output exceeds the size limit. Open the full output data in a text editor\n",
    "\n",
    "['I',\n",
    " 'love',\n",
    " 'this',\n",
    " 'place!',\n",
    " 'My',\n",
    " 'fiance',\n",
    " 'And',\n",
    " 'I',\n",
    " 'go',\n",
    " 'here',\n",
    " 'atleast',\n",
    " 'once',\n",
    " 'a',\n",
    " 'week.',\n",
    " 'The',\n",
    " 'portions',\n",
    " 'are',\n",
    " 'huge!',\n",
    " 'Food',\n",
    " 'is',\n",
    " 'amazing.',\n",
    " 'I',\n",
    " 'love',\n",
    " 'their',\n",
    " 'carne',\n",
    " 'the',\n",
    " 'sauce',\n",
    " 'is',\n",
    " 'different',\n",
    " 'And',\n",
    " 'amazing!!!']\n",
    "    </code></pre>\n",
    "</details>\n",
    "\n",
    "---"
   ]
  },
  {
   "cell_type": "markdown",
   "metadata": {},
   "source": [
    "Then we just need to count this!\n",
    "\n",
    "> In the cell below, use the `len()` function to count the individual words in `example`:\n",
    "\n",
    "<details>\n",
    "    <summary style=\"cursor: pointer; display: inline\">\n",
    "        <b><u>Reveal Code</u></b>\n",
    "    </summary>\n",
    "    <pre><code language=\"python\">len(example.split())\n",
    "    </code></pre>\n",
    "</details>"
   ]
  },
  {
   "cell_type": "code",
   "execution_count": null,
   "metadata": {},
   "outputs": [],
   "source": [
    "# replace this comment with the code to count the number of words in example "
   ]
  },
  {
   "cell_type": "markdown",
   "metadata": {},
   "source": [
    "---\n",
    "#### Expected Output\n",
    "<pre><code>58\n",
    "</code></pre>\n",
    "\n",
    "---"
   ]
  },
  {
   "cell_type": "markdown",
   "metadata": {},
   "source": [
    "## Then return to solving for all!\n",
    "\n",
    "> In the cell below, type the code to count the number of words in each row of the `text` column of `df`\n",
    "\n",
    "<details>\n",
    "    <summary style=\"cursor: pointer; display: inline\">\n",
    "        <b><u>Reveal Code</u></b>\n",
    "    </summary>\n",
    "    <pre><code language=\"python\">df['text'].map(lambda x: len(x.split())).head()\n",
    "    </code></pre>\n",
    "</details>"
   ]
  },
  {
   "cell_type": "code",
   "execution_count": null,
   "metadata": {},
   "outputs": [],
   "source": [
    "# replace this comment with the code to count the number of words"
   ]
  },
  {
   "cell_type": "markdown",
   "metadata": {},
   "source": [
    "---\n",
    "#### Expected Output\n",
    "<details>\n",
    "    <summary style=\"cursor: pointer; display: inline\">\n",
    "        <b><u>Click to Expand Complete Output</u></b>\n",
    "    </summary>\n",
    "    <pre><code language=\"python\">1     58\n",
    "2     30\n",
    "4     30\n",
    "5     82\n",
    "10    32\n",
    "Name: text, dtype: int64\n",
    "    </code></pre>\n",
    "</details>\n",
    "\n",
    "---"
   ]
  },
  {
   "cell_type": "markdown",
   "metadata": {},
   "source": [
    "## Watch for edge cases and exceptions\n",
    "\n",
    "When generalizing from a single case to all cases, it's important to consider exceptions or edge cases. For example, in the above example, you might wonder whether extra spaces or punctuations effects the output.\n",
    "\n",
    "> In the cell below, type the following to see how spaces can affect the output:\n",
    "\n",
    "`'this is a      weird test!!!Can we break it??'.split()`"
   ]
  },
  {
   "cell_type": "code",
   "execution_count": 1,
   "metadata": {},
   "outputs": [],
   "source": [
    "# uncomment the line below and apply the .split method to see how spaces affect the output\n",
    "# 'this is a      weird test!!!Can we break it??'"
   ]
  },
  {
   "cell_type": "markdown",
   "metadata": {},
   "source": [
    "---\n",
    "#### Expected Output\n",
    "<details>\n",
    "    <summary style=\"cursor: pointer; display: inline\">\n",
    "        <b><u>Click to Expand Complete Output</u></b>\n",
    "    </summary>\n",
    "    <pre><code language=\"python\">['this', 'is', 'a', 'weird', 'test!!!Can', 'we', 'break', 'it??']\n",
    "    </code></pre>\n",
    "</details>  \n",
    "\n",
    "---"
   ]
  },
  {
   "cell_type": "markdown",
   "metadata": {},
   "source": [
    "As you can see, extra spaces won't break our function, but missing a space after punctuation will. Perhaps this is a rare enough event that we don't worry further, but exceptions are always something to consider when writing functions.\n",
    "\n",
    "## Other Common Patterns: the % and // operators\n",
    "\n",
    "Another common pattern that you may find very useful is the modulus or remainder operator (%), as well as the floor division operator (//). These are both very useful when you want behavior such as 'every fourth element' or 'groups of three consecutive elements'. Let's investigate a couple of examples."
   ]
  },
  {
   "cell_type": "markdown",
   "metadata": {},
   "source": [
    "### The modulus operator (%)\n",
    "Useful for queries such as 'every other element' or 'every fifth element' etc.\n",
    "\n",
    "> In the cell below, type the following code to demonstrate the modulus operator:\n",
    "\n",
    "`3 % 2`"
   ]
  },
  {
   "cell_type": "code",
   "execution_count": null,
   "metadata": {},
   "outputs": [],
   "source": [
    "# replace this comment with the code to test the modulus operator"
   ]
  },
  {
   "cell_type": "markdown",
   "metadata": {},
   "source": [
    "---\n",
    "#### Expected Output\n",
    "<pre><code>1\n",
    "</code></pre>\n",
    "\n",
    "---"
   ]
  },
  {
   "cell_type": "markdown",
   "metadata": {},
   "source": [
    "> In the cell below, try another example to demonstrate the modulus operator\n",
    "\n",
    "`2 % 2`"
   ]
  },
  {
   "cell_type": "code",
   "execution_count": null,
   "metadata": {},
   "outputs": [],
   "source": [
    "# replace this comment with the code for the second modulus operator example"
   ]
  },
  {
   "cell_type": "markdown",
   "metadata": {},
   "source": [
    "---\n",
    "#### Expected Output\n",
    "<pre><code>0\n",
    "</code></pre>\n",
    "\n",
    "---"
   ]
  },
  {
   "cell_type": "markdown",
   "metadata": {},
   "source": [
    "> In the cell below, type the following code to see how the modulus operator can be used in a for loop to create a pattern:\n",
    "\n",
    "```\n",
    "for i in range(10):\n",
    "    print('i: {}, i%2: {}'.format(i, i%2))\n",
    "```"
   ]
  },
  {
   "cell_type": "code",
   "execution_count": null,
   "metadata": {},
   "outputs": [],
   "source": [
    "# replace this comment with the code to create a pattern of every other number"
   ]
  },
  {
   "cell_type": "markdown",
   "metadata": {},
   "source": [
    "---\n",
    "#### Expected Output\n",
    "<details>\n",
    "    <summary style=\"cursor: pointer; display: inline\">\n",
    "        <b><u>Click to Expand Complete Output</u></b>\n",
    "    </summary>\n",
    "    <pre><code language=\"python\">i: 0, i%2: 0\n",
    "i: 1, i%2: 1\n",
    "i: 2, i%2: 0\n",
    "i: 3, i%2: 1\n",
    "i: 4, i%2: 0\n",
    "i: 5, i%2: 1\n",
    "i: 6, i%2: 0\n",
    "i: 7, i%2: 1\n",
    "i: 8, i%2: 0\n",
    "i: 9, i%2: 1\n",
    "    </code></pre>\n",
    "</details>\n",
    "\n",
    "---"
   ]
  },
  {
   "cell_type": "markdown",
   "metadata": {},
   "source": [
    "### The floor division (//) operator\n",
    "Useful for creating groups of a set size. For example: groups of ten, groups of seven, etc.\n",
    "\n",
    "> In the cell below, type the following code to show the result of floor division of 9 by 3:\n",
    "\n",
    "`9 // 3`"
   ]
  },
  {
   "cell_type": "code",
   "execution_count": null,
   "metadata": {},
   "outputs": [],
   "source": [
    "# replace this comment with the code demonstrate floor division"
   ]
  },
  {
   "cell_type": "markdown",
   "metadata": {},
   "source": [
    "---\n",
    "#### Expected Output\n",
    "<pre><code>3\n",
    "</code></pre>\n",
    "\n",
    "---"
   ]
  },
  {
   "cell_type": "markdown",
   "metadata": {},
   "source": [
    "> In the cell below type the following code to demonstrate floor division on another example:\n",
    "\n",
    "`5 // 3`"
   ]
  },
  {
   "cell_type": "code",
   "execution_count": 6,
   "metadata": {},
   "outputs": [],
   "source": [
    "# replace this comment with the code for another example of floor division"
   ]
  },
  {
   "cell_type": "markdown",
   "metadata": {},
   "source": [
    "---\n",
    "#### Expected Output\n",
    "<pre><code>1\n",
    "</code></pre>\n",
    "\n",
    "---"
   ]
  },
  {
   "cell_type": "markdown",
   "metadata": {},
   "source": [
    "> In the cell below, type the following code to demonstrate how floor division can create groups of 2:\n",
    "\n",
    "```\n",
    "for i in range(10):\n",
    "    print(f'i: {i}, i//2: {i//2}')\n",
    "```"
   ]
  },
  {
   "cell_type": "code",
   "execution_count": null,
   "metadata": {},
   "outputs": [],
   "source": [
    "# replace this comment with the code to generate groups of two from a range of 10 numbers"
   ]
  },
  {
   "cell_type": "markdown",
   "metadata": {},
   "source": [
    "---\n",
    "#### Expected Output\n",
    "<details>\n",
    "    <summary style=\"cursor: pointer; display: inline\">\n",
    "        <b><u>Click to Expand Complete Output</u></b>\n",
    "    </summary>\n",
    "    <pre><code language=\"python\">i: 0, i//2: 0\n",
    "i: 1, i//2: 0\n",
    "i: 2, i//2: 1\n",
    "i: 3, i//2: 1\n",
    "i: 4, i//2: 2\n",
    "i: 5, i//2: 2\n",
    "i: 6, i//2: 3\n",
    "i: 7, i//2: 3\n",
    "i: 8, i//2: 4\n",
    "i: 9, i//2: 4\n",
    "    </code></pre>\n",
    "</details>\n",
    "\n",
    "---"
   ]
  },
  {
   "cell_type": "markdown",
   "metadata": {},
   "source": [
    "### Combining % and //\n",
    "\n",
    "Combining the two can be very useful, such as when creating subplots!\n",
    "Below we iterate through 12 elements arranging them into 3 rows and 4 columns.\n",
    "\n",
    "> In the cell below, type the following code to see how the modulus and floor division operators can be used to create subplots:\n",
    "\n",
    "```\n",
    "for i in range(12):\n",
    "    print(f'i: {i}, Row: {i//4} Column: {i%4}')\n",
    "```"
   ]
  },
  {
   "cell_type": "code",
   "execution_count": null,
   "metadata": {},
   "outputs": [],
   "source": [
    "# replace this comment with the code to show how % and // can be used to create subplots"
   ]
  },
  {
   "cell_type": "markdown",
   "metadata": {},
   "source": [
    "---\n",
    "#### Expected Output\n",
    "<details>\n",
    "    <summary style=\"cursor: pointer; display: inline\">\n",
    "        <b><u>Click to Expand Complete Output</u></b>\n",
    "    </summary>\n",
    "    <pre><code language=\"python\">i: 0, Row: 0 Column: 0\n",
    "i: 1, Row: 0 Column: 1\n",
    "i: 2, Row: 0 Column: 2\n",
    "i: 3, Row: 0 Column: 3\n",
    "i: 4, Row: 1 Column: 0\n",
    "i: 5, Row: 1 Column: 1\n",
    "i: 6, Row: 1 Column: 2\n",
    "i: 7, Row: 1 Column: 3\n",
    "i: 8, Row: 2 Column: 0\n",
    "i: 9, Row: 2 Column: 1\n",
    "i: 10, Row: 2 Column: 2\n",
    "i: 11, Row: 2 Column: 3\n",
    "    </code></pre>\n",
    "</details>\n",
    "\n",
    "---"
   ]
  },
  {
   "cell_type": "markdown",
   "metadata": {},
   "source": [
    "Below we create subplots using both the modulus `%` and floor division `//` operators using `matplotlib`. First we need to bring in the libraries we need for this.\n",
    "\n",
    "> In the cell below, type the code to import `numpy` and `matplotlib` using the standard aliases and set `matplotlib` to display inline.\n",
    "\n",
    "<details>\n",
    "    <summary style=\"cursor: pointer; display: inline\">\n",
    "        <b><u>Reveal Code</u></b>\n",
    "    </summary>\n",
    "    <pre><code language=\"python\">import numpy as np\n",
    "import matplotlib.pyplot as plt\n",
    "%matplotlib inline\n",
    "    </code></pre>\n",
    "</details>"
   ]
  },
  {
   "cell_type": "code",
   "execution_count": 10,
   "metadata": {},
   "outputs": [],
   "source": [
    "# replace this comment with the code for numpy\n",
    "# replace this comment with the code for matplotlib\n",
    "# replace this comment with the code to display plots inline"
   ]
  },
  {
   "cell_type": "markdown",
   "metadata": {},
   "source": [
    "Now we can create the plots. Run the cell below to see how these operators can help in creating subplots."
   ]
  },
  {
   "cell_type": "code",
   "execution_count": null,
   "metadata": {},
   "outputs": [],
   "source": [
    "fig, axes = plt.subplots(nrows=3, ncols=4, figsize=(10,10))\n",
    "x = np.linspace(start=-10, stop=10, num=10*83)\n",
    "for i in range(12):\n",
    "    row = i//4\n",
    "    col = i%4\n",
    "    ax = axes[row, col]\n",
    "    ax.scatter(x, x**i)\n",
    "    ax.set_title(f'Plot of x^{i}')\n",
    "plt.show()"
   ]
  },
  {
   "cell_type": "markdown",
   "metadata": {
    "collapsed": true
   },
   "source": [
    "## Summary\n",
    "\n",
    "Lambda functions can be a convenient way to write \"throw away\" functions that you want to declare inline. In the next lesson we'll give you some practice with creating them!"
   ]
  }
 ],
 "metadata": {
  "kernelspec": {
   "display_name": "Python 3",
   "language": "python",
   "name": "python3"
  },
  "language_info": {
   "codemirror_mode": {
    "name": "ipython",
    "version": 3
   },
   "file_extension": ".py",
   "mimetype": "text/x-python",
   "name": "python",
   "nbconvert_exporter": "python",
   "pygments_lexer": "ipython3",
   "version": "3.8.5"
  }
 },
 "nbformat": 4,
 "nbformat_minor": 2
}
